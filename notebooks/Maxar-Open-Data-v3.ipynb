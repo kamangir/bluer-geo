{
 "cells": [
  {
   "attachments": {},
   "cell_type": "markdown",
   "metadata": {},
   "source": [
    "# Maxar Open Data: query and ingest\n",
    "\n",
    "https://www.maxar.com/open-data/\n",
    "\n",
    "[10300100EB15FF00_collection.json](https://radiantearth.github.io/stac-browser/?source=post_page-----fbbd512aeca0--------------------------------#/external/maxar-opendata.s3.amazonaws.com/events/Maui-Hawaii-fires-Aug-23/ard/acquisition_collections/10300100EB15FF00_collection.json)"
   ]
  },
  {
   "cell_type": "code",
   "execution_count": 1,
   "metadata": {},
   "outputs": [
    {
     "name": "stderr",
     "output_type": "stream",
     "text": [
      "🌐  bluer_geo-5.15.1.bluer_flow-5.16.1.bluer_ai-12.136.1.bluer_objects-6.96.1.bluer_options-5.86.1.torch-2.2.2.Python 3.12.9.Darwin 23.6.0..Jupyter-Notebook,\n",
      "built on 23 April 2025, 10:28:23\n"
     ]
    }
   ],
   "source": [
    "from bluer_sandbox import notebooks\n",
    "\n",
    "from bluer_options import string\n",
    "from bluer_objects import objects\n",
    "from bluer_objects import metadata\n",
    "\n",
    "from bluer_geo.catalog.maxar_open_data import MaxarOpenDataCatalog, MaxarOpenDataDatacube\n",
    "from bluer_geo.catalog import get_datacube\n",
    "from bluer_geo.host import signature\n",
    "from bluer_geo.logger import logger\n",
    "\n",
    "logger.info(f\"{'.'.join(signature())},\\nbuilt on {string.pretty_date()}\")"
   ]
  },
  {
   "cell_type": "code",
   "execution_count": 2,
   "metadata": {},
   "outputs": [
    {
     "data": {
      "text/plain": [
       "['BayofBengal-Cyclone-Mocha-May-23',\n",
       " 'Belize-Wildfires-June24',\n",
       " 'Brazil-Flooding-May24',\n",
       " 'Cyclone-Chido-Dec15',\n",
       " 'Earthquake-Myanmar-March-2025',\n",
       " 'Emilia-Romagna-Italy-flooding-may23',\n",
       " 'Floods-Spain-Oct24',\n",
       " 'Gambia-flooding-8-11-2022',\n",
       " 'Hurricane-Fiona-9-19-2022',\n",
       " 'Hurricane-Ian-9-26-2022',\n",
       " 'Hurricane-Idalia-Florida-Aug23',\n",
       " 'HurricaneHelene-Oct24',\n",
       " 'HurricaneMilton-Oct24',\n",
       " 'Iceland-Volcano_Eruption-Dec-2023',\n",
       " 'India-Floods-Oct-2023',\n",
       " 'Indonesia-Earthquake22',\n",
       " 'Japan-Earthquake-Jan-2024',\n",
       " 'Kahramanmaras-turkey-earthquake-23',\n",
       " 'Kalehe-DRC-Flooding-5-8-23',\n",
       " 'Kenya-Flooding-May24',\n",
       " 'Libya-Floods-Sept-2023',\n",
       " 'Marshall-Fire-21-Update',\n",
       " 'Maui-Hawaii-fires-Aug-23',\n",
       " 'McDougallCreekWildfire-BC-Canada-Aug-23',\n",
       " 'Morocco-Earthquake-Sept-2023',\n",
       " 'NWT-Canada-Aug-23',\n",
       " 'Nepal-Earthquake-Apr-2015',\n",
       " 'Nepal-Earthquake-Nov-2023',\n",
       " 'Nepal-Floods-Sept-2024',\n",
       " 'New-Zealand-Flooding23',\n",
       " 'Nigeria-Floods-Sept-2024',\n",
       " 'PNG-Landslide-June24',\n",
       " 'SmokeHouseCreek-Wildfires-Texas-Mar24',\n",
       " 'Sudan-flooding-8-22-2022',\n",
       " 'Vanuatu-Earthquake-Dec17',\n",
       " 'WildFires-LosAngeles-Jan-2025',\n",
       " 'afghanistan-earthquake22',\n",
       " 'cyclone-emnati22',\n",
       " 'ghana-explosion22',\n",
       " 'kentucky-flooding-7-29-2022',\n",
       " 'pakistan-flooding22',\n",
       " 'shovi-georgia-landslide-8Aug23',\n",
       " 'southafrica-flooding22',\n",
       " 'tonga-volcano21',\n",
       " 'volcano-indonesia21',\n",
       " 'yellowstone-flooding22']"
      ]
     },
     "execution_count": 2,
     "metadata": {},
     "output_type": "execute_result"
    }
   ],
   "source": [
    "catalog = MaxarOpenDataCatalog()\n",
    "catalog.get_list_of_collections()"
   ]
  },
  {
   "cell_type": "markdown",
   "metadata": {},
   "source": [
    "---"
   ]
  },
  {
   "cell_type": "markdown",
   "metadata": {},
   "source": [
    "## query"
   ]
  },
  {
   "cell_type": "code",
   "execution_count": 3,
   "metadata": {},
   "outputs": [
    {
     "name": "stderr",
     "output_type": "stream",
     "text": [
      "🌀  📂 query-2025-04-23-10-28-27-oytn2f\n"
     ]
    }
   ],
   "source": [
    "object_name = objects.unique_object(\"query\")"
   ]
  },
  {
   "cell_type": "code",
   "execution_count": 4,
   "metadata": {},
   "outputs": [
    {
     "name": "stderr",
     "output_type": "stream",
     "text": [
      "🌐  🔎 MaxarOpenDataDatacube.query -> query-2025-04-23-10-28-27-oytn2f\n",
      "35it [00:38,  1.25it/s]🌐  11/031311103030/1050010040277300 - 2025-01-10 18:35:09\n",
      "🌐  11/031311103031/1050010040277300 - 2025-01-10 18:35:09\n",
      "40it [00:48,  1.22s/it]\n",
      "🌐  2 item(s).\n",
      "pyogrio._io Created 2 records\n",
      "🌀  bluer_geo.file.save.save_geojson: 2X[geometry] row(s) -> /Users/kamangir/storage/abcli/query-2025-04-23-10-28-27-oytn2f/coverage.geojson\n",
      "🌐  2 datacubes(s) found.\n",
      "🌐  🧊 01: datacube-maxar_open_data-WildFires-LosAngeles-Jan-2025-11-031311103030-1050010040277300\n",
      "🌐  🧊 02: datacube-maxar_open_data-WildFires-LosAngeles-Jan-2025-11-031311103031-1050010040277300\n",
      "🌀  bluer_objects.metadata.post.post[/Users/kamangir/storage/abcli/query-2025-04-23-10-28-27-oytn2f/metadata.yaml]: datacube_id\n",
      "🌀  bluer_objects.file.save.save_yaml: datacube_id -> /Users/kamangir/storage/abcli/query-2025-04-23-10-28-27-oytn2f/metadata.yaml.\n"
     ]
    }
   ],
   "source": [
    "assert MaxarOpenDataDatacube.query(\n",
    "        object_name=object_name,\n",
    "        collection_id=\"WildFires-LosAngeles-Jan-2025\",\n",
    "        lat=34.2160393,\n",
    "        lon=-118.1509575,\n",
    "        start_date=\"2025-01-10\",\n",
    "        end_date=\"2025-01-13\",\n",
    "        count=3,\n",
    ")"
   ]
  },
  {
   "cell_type": "code",
   "execution_count": 5,
   "metadata": {},
   "outputs": [
    {
     "name": "stderr",
     "output_type": "stream",
     "text": [
      "🌐  🧊 datacube-maxar_open_data-WildFires-LosAngeles-Jan-2025-11-031311103030-1050010040277300\n"
     ]
    }
   ],
   "source": [
    "datacube_id = metadata.get_from_object(object_name, \"datacube_id\")[0]\n",
    "logger.info(f\"🧊 {datacube_id}\")"
   ]
  },
  {
   "cell_type": "markdown",
   "metadata": {},
   "source": [
    "## ingest"
   ]
  },
  {
   "cell_type": "code",
   "execution_count": 6,
   "metadata": {},
   "outputs": [],
   "source": [
    "datacube = get_datacube(datacube_id)\n",
    "assert isinstance(datacube, MaxarOpenDataDatacube)"
   ]
  },
  {
   "cell_type": "code",
   "execution_count": 7,
   "metadata": {},
   "outputs": [
    {
     "name": "stderr",
     "output_type": "stream",
     "text": [
      "🌐  bluer_geo.catalog.generic.generic.classes.MaxarOpenDataDatacube.ingest(): metadata @ datacube-maxar_open_data-WildFires-LosAngeles-Jan-2025-11-031311103030-1050010040277300\n",
      "  0%|          | 0/1 [00:00<?, ?it/s]🌐  ingesting data-mask ...\n",
      "🌐  asset_relative_href= ./1050010040277300-data-mask.gpkg\n",
      "🌐  root href: https://maxar-opendata.s3.amazonaws.com/events/WildFires-LosAngeles-Jan-2025/ard/11/031311103030/2025-01-10\n",
      "🌐  asset_href: https://maxar-opendata.s3.amazonaws.com/events/WildFires-LosAngeles-Jan-2025/ard/11/031311103030/2025-01-10/./1050010040277300-data-mask.gpkg\n",
      "🌐  filename: /Users/kamangir/storage/abcli/datacube-maxar_open_data-WildFires-LosAngeles-Jan-2025-11-031311103030-1050010040277300/11-031311103030-1050010040277300-1050010040277300-data-mask.gpkg\n",
      "🌀  ✅ /Users/kamangir/storage/abcli/datacube-maxar_open_data-WildFires-LosAngeles-Jan-2025-11-031311103030-1050010040277300/11-031311103030-1050010040277300-1050010040277300-data-mask.gpkg\n",
      "100%|██████████| 1/1 [00:00<00:00, 13.48it/s]\n",
      "🌀  bluer_objects.metadata.post.post[/Users/kamangir/storage/abcli/datacube-maxar_open_data-WildFires-LosAngeles-Jan-2025-11-031311103030-1050010040277300/metadata.yaml]: item_info\n",
      "🌀  bluer_objects.file.save.save_yaml: datacube, item_info -> /Users/kamangir/storage/abcli/datacube-maxar_open_data-WildFires-LosAngeles-Jan-2025-11-031311103030-1050010040277300/metadata.yaml.\n"
     ]
    }
   ],
   "source": [
    "success, _ = datacube.ingest()\n",
    "assert success"
   ]
  },
  {
   "attachments": {},
   "cell_type": "markdown",
   "metadata": {},
   "source": [
    "---"
   ]
  },
  {
   "cell_type": "code",
   "execution_count": 8,
   "metadata": {},
   "outputs": [
    {
     "name": "stderr",
     "output_type": "stream",
     "text": [
      "🌀  bluer_objects.host.functions.shell(zip -r \"../datacube-maxar_open_data-WildFires-LosAngeles-Jan-2025-11-031311103030-1050010040277300.zip\" \".\")\n"
     ]
    },
    {
     "name": "stdout",
     "output_type": "stream",
     "text": [
      "  adding: 11-031311103030-1050010040277300-1050010040277300-data-mask.gpkg (deflated 95%)\n",
      "  adding: 11-031311103030-1050010040277300-1050010040277300-visual.png (deflated 2%)\n",
      "  adding: 11-031311103030-1050010040277300-1050010040277300-visual.tif (deflated 8%)\n",
      "  adding: metadata.yaml (deflated 71%)\n",
      "  adding: item.bin (deflated 57%)\n"
     ]
    },
    {
     "name": "stderr",
     "output_type": "stream",
     "text": [
      "🌀  WebDAVzipInterface.upload datacube-maxar_open_data-WildFires-LosAngeles-Jan-2025-11-031311103030-1050010040277300\n",
      "🌀  ⏺️  datacube-maxar_open_data-WildFires-LosAngeles-Jan-2025-11-031311103030-1050010040277300 | 00001\n",
      "🌀  ⬆️  /Users/kamangir/storage/abcli/datacube-maxar_open_data-WildFires-LosAngeles-Jan-2025-11-031311103030-1050010040277300/11-031311103030-1050010040277300-1050010040277300-visual.png\n",
      "🌀  ⬆️  /Users/kamangir/storage/abcli/datacube-maxar_open_data-WildFires-LosAngeles-Jan-2025-11-031311103030-1050010040277300/metadata.yaml\n",
      "🌀  ⏹️  datacube-maxar_open_data-WildFires-LosAngeles-Jan-2025-11-031311103030-1050010040277300\n"
     ]
    }
   ],
   "source": [
    "assert notebooks.upload(datacube_id)"
   ]
  },
  {
   "cell_type": "code",
   "execution_count": 9,
   "metadata": {},
   "outputs": [],
   "source": [
    "# END"
   ]
  }
 ],
 "metadata": {
  "kernelspec": {
   "display_name": "base",
   "language": "python",
   "name": "python3"
  },
  "language_info": {
   "codemirror_mode": {
    "name": "ipython",
    "version": 3
   },
   "file_extension": ".py",
   "mimetype": "text/x-python",
   "name": "python",
   "nbconvert_exporter": "python",
   "pygments_lexer": "ipython3",
   "version": "3.12.9"
  },
  "toc": {
   "base_numbering": 1,
   "nav_menu": {},
   "number_sections": true,
   "sideBar": true,
   "skip_h1_title": false,
   "title_cell": "Table of Contents",
   "title_sidebar": "Contents",
   "toc_cell": false,
   "toc_position": {},
   "toc_section_display": true,
   "toc_window_display": false
  }
 },
 "nbformat": 4,
 "nbformat_minor": 2
}
