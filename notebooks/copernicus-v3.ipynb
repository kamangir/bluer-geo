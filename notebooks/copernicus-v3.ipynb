{
    "cells": [
        {
            "attachments": {},
            "cell_type": "markdown",
            "metadata": {},
            "source": [
                "# Copernicus: query and ingest\n",
                "\n",
                "https://documentation.dataspace.copernicus.eu/APIs/STAC.html\n",
                "\n",
                "https://documentation.dataspace.copernicus.eu/APIs/S3.html#example-script-to-download-product-using-boto3"
            ]
        },
        {
            "cell_type": "code",
            "execution_count": null,
            "metadata": {},
            "outputs": [],
            "source": [
                "from bluer_sandbox import notebooks\n",
                "\n",
                "from bluer_options import string\n",
                "from bluer_objects import metadata\n",
                "\n",
                "from bluer_geo import NAME, VERSION\n",
                "from bluer_geo.host import signature\n",
                "from bluer_geo.catalog.copernicus import CopernicusSentinel2Datacube, CopernicusCatalog\n",
                "from bluer_geo.catalog import get_datacube\n",
                "from bluer_geo.logger import logger\n",
                "\n",
                "logger.info(f\"{'.'.join(signature())},\\nbuilt on {string.pretty_date()}\")"
            ]
        },
        {
            "cell_type": "markdown",
            "metadata": {},
            "source": [
                "---"
            ]
        },
        {
            "cell_type": "markdown",
            "metadata": {},
            "source": [
                "# catalog"
            ]
        },
        {
            "cell_type": "code",
            "execution_count": null,
            "metadata": {},
            "outputs": [],
            "source": [
                "catalog = CopernicusCatalog()\n",
                "catalog.get_list_of_collections()"
            ]
        },
        {
            "cell_type": "markdown",
            "metadata": {},
            "source": [
                "## query"
            ]
        },
        {
            "cell_type": "code",
            "execution_count": null,
            "metadata": {},
            "outputs": [],
            "source": [
                "object_name = f\"query-{string.timestamp()}\"\n",
                "logger.info(f\"📂 {object_name}\")"
            ]
        },
        {
            "cell_type": "code",
            "execution_count": null,
            "metadata": {},
            "outputs": [],
            "source": [
                "assert CopernicusSentinel2Datacube.query(\n",
                "    object_name=object_name,\n",
                "    bbox=[-122.78 - 0.1, 51.83 - 0.1, -122.78 + 0.1, 51.83 + 0.1],\n",
                "    datetime=\"2024-07-30/2024-08-09\",\n",
                "    count=-1,\n",
                ")"
            ]
        },
        {
            "cell_type": "code",
            "execution_count": null,
            "metadata": {},
            "outputs": [],
            "source": [
                "datacube_id = metadata.get_from_object(object_name, \"datacube_id\")[0]\n",
                "logger.info(f\"🧊 {datacube_id}\")"
            ]
        },
        {
            "cell_type": "markdown",
            "metadata": {},
            "source": [
                "## ingest"
            ]
        },
        {
            "cell_type": "code",
            "execution_count": null,
            "metadata": {},
            "outputs": [],
            "source": [
                "datacube = get_datacube(datacube_id)\n",
                "assert isinstance(datacube, CopernicusSentinel2Datacube)\n",
                "\n",
                "datacube.metadata[\"Item\"]"
            ]
        },
        {
            "cell_type": "code",
            "execution_count": null,
            "metadata": {},
            "outputs": [],
            "source": [
                "list_of_files = datacube.list_of_files()\n",
                "\n",
                "logger.info(\"{} file(s)\".format(len(list_of_files)))\n",
                "for index, filename in enumerate(list_of_files):\n",
                "    logger.info(f\"#{index:03d} - {filename}\")\n"
            ]
        },
        {
            "cell_type": "code",
            "execution_count": null,
            "metadata": {},
            "outputs": [],
            "source": [
                "success, _ = datacube.ingest()\n",
                "assert success"
            ]
        },
        {
            "attachments": {},
            "cell_type": "markdown",
            "metadata": {},
            "source": [
                "---"
            ]
        },
        {
            "cell_type": "code",
            "execution_count": null,
            "metadata": {},
            "outputs": [],
            "source": [
                "# END"
            ]
        }
    ],
    "metadata": {
        "kernelspec": {
            "display_name": "base",
            "language": "python",
            "name": "python3"
        },
        "language_info": {
            "codemirror_mode": {
                "name": "ipython",
                "version": 3
            },
            "file_extension": ".py",
            "mimetype": "text/x-python",
            "name": "python",
            "nbconvert_exporter": "python",
            "pygments_lexer": "ipython3",
            "version": "3.12.9"
        },
        "toc": {
            "base_numbering": 1,
            "nav_menu": {},
            "number_sections": true,
            "sideBar": true,
            "skip_h1_title": false,
            "title_cell": "Table of Contents",
            "title_sidebar": "Contents",
            "toc_cell": false,
            "toc_position": {},
            "toc_section_display": true,
            "toc_window_display": false
        }
    },
    "nbformat": 4,
    "nbformat_minor": 2
}
